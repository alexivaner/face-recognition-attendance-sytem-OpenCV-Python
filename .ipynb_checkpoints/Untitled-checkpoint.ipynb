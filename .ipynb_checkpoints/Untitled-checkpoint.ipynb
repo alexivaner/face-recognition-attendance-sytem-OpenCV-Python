{
 "cells": [
  {
   "cell_type": "code",
   "execution_count": 136,
   "metadata": {},
   "outputs": [],
   "source": [
    "from collections import defaultdict\n",
    "import operator\n",
    "\n",
    "name=['Thanh', 'Thanh', 'Thanh', 'Thanh', 'Thanh', 'Thanh', 'Thanh', 'Thanh', 'Thanh', 'Thanh', 'Thanh', 'Thanh', 'Thanh', 'Thanh', 'Thanh', 'Thanh', 'Thanh', 'Thanh', 'Thanh', 'Thanh', 'Thanh', 'Thanh', 'Thanh', 'Thanh', 'Thanh', 'Thanh', 'Thanh', 'Thanh', 'Thanh', 'Thanh', 'Thanh', 'Farhan', 'Farhan', 'Farhan', 'Farhan', 'Farhan', 'Farhan', 'Farhan', 'Farhan', 'Farhan', 'Farhan', 'Farhan', 'Farhan', 'Farhan', 'Farhan', 'Farhan', 'Farhan', 'Farhan', 'Farhan', 'Farhan', 'Farhan', 'Farhan', 'Farhan', 'Farhan', 'Farhan', 'Farhan', 'Farhan', 'Farhan', 'Farhan', 'Farhan', 'Farhan', 'Farhan', 'Farhan', 'Farhan', 'Farhan', 'Farhan', 'Farhan', 'Farhan', 'Farhan', 'Farhan', 'Farhan', 'Farhan', 'Farhan', 'Farhan', 'Farhan', 'Farhan', 'Farhan', 'Farhan', 'Farhan', 'Farhan', 'Farhan', 'Farhan', 'Farhan', 'Farhan', 'Farhan', 'Farhan', 'Farhan', 'Farhan', 'Farhan', 'Farhan', 'Farhan', 'Farhan', 'Farhan', 'Farhan', 'Farhan', 'Farhan', 'Farhan', 'Farhan', 'Farhan', 'Farhan'] \n",
    "proba=[0.5034575055202198, 0.5520427821890966, 0.6030068225164448, 0.6030068225164448, 0.5860999564454077, 0.6237040533382533, 0.6237040533382533, 0.6258886187471548, 0.5001838272994527, 0.6661051245432064, 0.6661051245432064, 0.5244546106956314, 0.5101621915537603, 0.5101621915537603, 0.5360828000075919, 0.7139691984036189, 0.5189895832129657, 0.5714286826531549, 0.5714286826531549, 0.5987919542825614, 0.5283934434964509, 0.5283934434964509, 0.6202250454792679, 0.525258458484734, 0.525258458484734, 0.5133644387244062, 0.5091241038219045, 0.6368190915395978, 0.6368190915395978, 0.7494164210808851, 0.5488402680202662, 0.7808161999524619, 0.6045882518655675, 0.6045882518655675, 0.7290776594449505, 0.7699865134064742, 0.7519652244848499, 0.7519652244848499, 0.8077852649049353, 0.7134707990155944, 0.8037688136466692, 0.8037688136466692, 0.7393492726505467, 0.7236299481597214, 0.9211631751681413, 0.9211631751681413, 0.8755956726930461, 0.7716040416308472, 0.8283740437142579, 0.8283740437142579, 0.6911285808068242, 0.815269220327726, 0.7761349900751436, 0.7761349900751436, 0.8543060937857131, 0.8214034671748194, 0.8277116720005308, 0.8277116720005308, 0.8489207294643405, 0.8508585582340787, 0.8292307145069551, 0.8292307145069551, 0.9190399370528969, 0.8262608879618495, 0.8262608879618495, 0.8855626586457667, 0.8920971556583306, 0.8393652541022983, 0.8393652541022983, 0.6522542191928085, 0.763941244808842, 0.6617301069272125, 0.6617301069272125, 0.7505104609623339, 0.7797390400367972, 0.7743520828749992, 0.7743520828749992, 0.7334068254114521, 0.6420824926612195, 0.5816118856366084, 0.5816118856366084, 0.7435587907907325, 0.7185212563558573, 0.5728508640357881, 0.5728508640357881, 0.6745666964202567, 0.6919964220309587, 0.6919964220309587, 0.6603307426773032, 0.6640376552400149, 0.572635793799911, 0.7192547747301853, 0.5533876753863931, 0.5533876753863931, 0.5002616186662556, 0.5655049212392814, 0.5655049212392814, 0.7312076638045019, 0.815812376244331, 0.7306884793725411]\n",
    "\n",
    "d = defaultdict(list)\n",
    "for key, value in zip(name, proba):\n",
    "    d[key].append(value)\n",
    "\n",
    "occurence=dict(d)"
   ]
  },
  {
   "cell_type": "code",
   "execution_count": 137,
   "metadata": {},
   "outputs": [],
   "source": [
    "thisset=set(occurence)\n",
    "for x in thisset:\n",
    "    occurance_individual=len(occurence[x])\n",
    "    occurence[x]=sum(item for item in occurence[x])\n",
    "    \n",
    "a=sum(occurence.values())\n",
    "\n",
    "for x in thisset:\n",
    "    occurence[x]=occurence[x]/a\n",
    "       \n",
    "    "
   ]
  },
  {
   "cell_type": "code",
   "execution_count": 138,
   "metadata": {},
   "outputs": [
    {
     "data": {
      "text/plain": [
       "{'Thanh': 0.2595137703162323, 'Farhan': 0.7404862296837676}"
      ]
     },
     "execution_count": 138,
     "metadata": {},
     "output_type": "execute_result"
    }
   ],
   "source": [
    "occurence"
   ]
  },
  {
   "cell_type": "code",
   "execution_count": 139,
   "metadata": {},
   "outputs": [
    {
     "data": {
      "text/plain": [
       "0.2595137703162323"
      ]
     },
     "execution_count": 139,
     "metadata": {},
     "output_type": "execute_result"
    }
   ],
   "source": [
    "occurence['Thanh']\n"
   ]
  },
  {
   "cell_type": "code",
   "execution_count": 141,
   "metadata": {},
   "outputs": [],
   "source": [
    "highest_face=max(occurence.items(), key=operator.itemgetter(1))[0]"
   ]
  },
  {
   "cell_type": "code",
   "execution_count": 1,
   "metadata": {},
   "outputs": [
    {
     "ename": "NameError",
     "evalue": "name 'highest_face' is not defined",
     "output_type": "error",
     "traceback": [
      "\u001b[0;31m---------------------------------------------------------------------------\u001b[0m",
      "\u001b[0;31mNameError\u001b[0m                                 Traceback (most recent call last)",
      "\u001b[0;32m<ipython-input-1-1ee48b22c955>\u001b[0m in \u001b[0;36m<module>\u001b[0;34m\u001b[0m\n\u001b[0;32m----> 1\u001b[0;31m \u001b[0mhighest_face\u001b[0m\u001b[0;34m\u001b[0m\u001b[0;34m\u001b[0m\u001b[0m\n\u001b[0m",
      "\u001b[0;31mNameError\u001b[0m: name 'highest_face' is not defined"
     ]
    }
   ],
   "source": [
    "highest_face"
   ]
  },
  {
   "cell_type": "code",
   "execution_count": 79,
   "metadata": {},
   "outputs": [],
   "source": [
    "import pandas as pd\n",
    "import numpy as np\n",
    "\n",
    "records = pd.read_csv('attendance-system.csv') #PROSES PERBAIKAN RAW DATA\n",
    "deduped = records.drop_duplicates(['Name'], keep='first')\n",
    "deduped =deduped.drop(columns=['Time Sign Out'])\n",
    "signed_out=records.loc[records['Time Sign Out'].notna()]\n",
    "deduped_out = signed_out.drop_duplicates(['Name'], keep='first')\n",
    "deduped_out =deduped_out.drop(columns=['Time Sign In'])\n",
    "mergedStuff = pd.merge(deduped, deduped_out, on=['Name'],suffixes=(' Sign In', ' Sign Out'))\n",
    "attend_data = mergedStuff[mergedStuff.Name != 'unknown']\n",
    "attend_data.to_csv('coba.csv', index=False)"
   ]
  },
  {
   "cell_type": "code",
   "execution_count": 75,
   "metadata": {},
   "outputs": [],
   "source": [
    "mergedStuff = pd.merge(deduped, deduped_out, on=['Name'],suffixes=(' Sign In', ' Sign Out'))\n"
   ]
  },
  {
   "cell_type": "code",
   "execution_count": 76,
   "metadata": {},
   "outputs": [
    {
     "data": {
      "text/html": [
       "<div>\n",
       "<style scoped>\n",
       "    .dataframe tbody tr th:only-of-type {\n",
       "        vertical-align: middle;\n",
       "    }\n",
       "\n",
       "    .dataframe tbody tr th {\n",
       "        vertical-align: top;\n",
       "    }\n",
       "\n",
       "    .dataframe thead th {\n",
       "        text-align: right;\n",
       "    }\n",
       "</style>\n",
       "<table border=\"1\" class=\"dataframe\">\n",
       "  <thead>\n",
       "    <tr style=\"text-align: right;\">\n",
       "      <th></th>\n",
       "      <th>Date Sign In</th>\n",
       "      <th>Name</th>\n",
       "      <th>Time Sign In</th>\n",
       "      <th>Date Sign Out</th>\n",
       "      <th>Time Sign Out</th>\n",
       "    </tr>\n",
       "  </thead>\n",
       "  <tbody>\n",
       "    <tr>\n",
       "      <th>0</th>\n",
       "      <td>15/12/2019</td>\n",
       "      <td>Farhan</td>\n",
       "      <td>22:53:00</td>\n",
       "      <td>15/12/2019</td>\n",
       "      <td>22:53:29</td>\n",
       "    </tr>\n",
       "  </tbody>\n",
       "</table>\n",
       "</div>"
      ],
      "text/plain": [
       "  Date Sign In    Name Time Sign In Date Sign Out Time Sign Out\n",
       "0   15/12/2019  Farhan     22:53:00    15/12/2019      22:53:29"
      ]
     },
     "execution_count": 76,
     "metadata": {},
     "output_type": "execute_result"
    }
   ],
   "source": [
    "mergedStuff"
   ]
  },
  {
   "cell_type": "code",
   "execution_count": 45,
   "metadata": {},
   "outputs": [
    {
     "data": {
      "text/html": [
       "<div>\n",
       "<style scoped>\n",
       "    .dataframe tbody tr th:only-of-type {\n",
       "        vertical-align: middle;\n",
       "    }\n",
       "\n",
       "    .dataframe tbody tr th {\n",
       "        vertical-align: top;\n",
       "    }\n",
       "\n",
       "    .dataframe thead th {\n",
       "        text-align: right;\n",
       "    }\n",
       "</style>\n",
       "<table border=\"1\" class=\"dataframe\">\n",
       "  <thead>\n",
       "    <tr style=\"text-align: right;\">\n",
       "      <th></th>\n",
       "      <th>Date</th>\n",
       "      <th>Name</th>\n",
       "      <th>Time Sign In</th>\n",
       "      <th>Time Sign Out</th>\n",
       "    </tr>\n",
       "  </thead>\n",
       "  <tbody>\n",
       "    <tr>\n",
       "      <th>0</th>\n",
       "      <td>15/12/2019</td>\n",
       "      <td>Ivan</td>\n",
       "      <td>22:51:59</td>\n",
       "      <td>NaN</td>\n",
       "    </tr>\n",
       "    <tr>\n",
       "      <th>2</th>\n",
       "      <td>15/12/2019</td>\n",
       "      <td>Farhan</td>\n",
       "      <td>22:53:00</td>\n",
       "      <td>NaN</td>\n",
       "    </tr>\n",
       "  </tbody>\n",
       "</table>\n",
       "</div>"
      ],
      "text/plain": [
       "         Date    Name Time Sign In Time Sign Out\n",
       "0  15/12/2019    Ivan     22:51:59           NaN\n",
       "2  15/12/2019  Farhan     22:53:00           NaN"
      ]
     },
     "execution_count": 45,
     "metadata": {},
     "output_type": "execute_result"
    }
   ],
   "source": [
    "deduped_out"
   ]
  },
  {
   "cell_type": "code",
   "execution_count": 31,
   "metadata": {},
   "outputs": [],
   "source": [
    "test=records.groupby(level=0).first()"
   ]
  },
  {
   "cell_type": "code",
   "execution_count": 29,
   "metadata": {},
   "outputs": [
    {
     "data": {
      "text/html": [
       "<div>\n",
       "<style scoped>\n",
       "    .dataframe tbody tr th:only-of-type {\n",
       "        vertical-align: middle;\n",
       "    }\n",
       "\n",
       "    .dataframe tbody tr th {\n",
       "        vertical-align: top;\n",
       "    }\n",
       "\n",
       "    .dataframe thead th {\n",
       "        text-align: right;\n",
       "    }\n",
       "</style>\n",
       "<table border=\"1\" class=\"dataframe\">\n",
       "  <thead>\n",
       "    <tr style=\"text-align: right;\">\n",
       "      <th></th>\n",
       "      <th>Date</th>\n",
       "      <th>Name</th>\n",
       "      <th>Time Sign In</th>\n",
       "      <th>Time Sign Out</th>\n",
       "    </tr>\n",
       "  </thead>\n",
       "  <tbody>\n",
       "    <tr>\n",
       "      <th>0</th>\n",
       "      <td>15/12/2019</td>\n",
       "      <td>Ivan</td>\n",
       "      <td>22:51:59</td>\n",
       "      <td>NaN</td>\n",
       "    </tr>\n",
       "    <tr>\n",
       "      <th>1</th>\n",
       "      <td>15/12/2019</td>\n",
       "      <td>Ivan</td>\n",
       "      <td>22:52:02</td>\n",
       "      <td>NaN</td>\n",
       "    </tr>\n",
       "    <tr>\n",
       "      <th>2</th>\n",
       "      <td>15/12/2019</td>\n",
       "      <td>Farhan</td>\n",
       "      <td>22:53:00</td>\n",
       "      <td>NaN</td>\n",
       "    </tr>\n",
       "    <tr>\n",
       "      <th>3</th>\n",
       "      <td>15/12/2019</td>\n",
       "      <td>Farhan</td>\n",
       "      <td>22:53:01</td>\n",
       "      <td>NaN</td>\n",
       "    </tr>\n",
       "    <tr>\n",
       "      <th>4</th>\n",
       "      <td>15/12/2019</td>\n",
       "      <td>Farhan</td>\n",
       "      <td>22:53:03</td>\n",
       "      <td>NaN</td>\n",
       "    </tr>\n",
       "    <tr>\n",
       "      <th>...</th>\n",
       "      <td>...</td>\n",
       "      <td>...</td>\n",
       "      <td>...</td>\n",
       "      <td>...</td>\n",
       "    </tr>\n",
       "    <tr>\n",
       "      <th>113</th>\n",
       "      <td>15/12/2019</td>\n",
       "      <td>Farhan</td>\n",
       "      <td>NaN</td>\n",
       "      <td>23:29:43</td>\n",
       "    </tr>\n",
       "    <tr>\n",
       "      <th>114</th>\n",
       "      <td>15/12/2019</td>\n",
       "      <td>Farhan</td>\n",
       "      <td>NaN</td>\n",
       "      <td>23:29:44</td>\n",
       "    </tr>\n",
       "    <tr>\n",
       "      <th>115</th>\n",
       "      <td>15/12/2019</td>\n",
       "      <td>Farhan</td>\n",
       "      <td>NaN</td>\n",
       "      <td>23:29:44</td>\n",
       "    </tr>\n",
       "    <tr>\n",
       "      <th>116</th>\n",
       "      <td>15/12/2019</td>\n",
       "      <td>Farhan</td>\n",
       "      <td>NaN</td>\n",
       "      <td>23:29:45</td>\n",
       "    </tr>\n",
       "    <tr>\n",
       "      <th>117</th>\n",
       "      <td>15/12/2019</td>\n",
       "      <td>Farhan</td>\n",
       "      <td>NaN</td>\n",
       "      <td>23:29:48</td>\n",
       "    </tr>\n",
       "  </tbody>\n",
       "</table>\n",
       "<p>118 rows × 4 columns</p>\n",
       "</div>"
      ],
      "text/plain": [
       "           Date    Name Time Sign In Time Sign Out\n",
       "0    15/12/2019    Ivan     22:51:59           NaN\n",
       "1    15/12/2019    Ivan     22:52:02           NaN\n",
       "2    15/12/2019  Farhan     22:53:00           NaN\n",
       "3    15/12/2019  Farhan     22:53:01           NaN\n",
       "4    15/12/2019  Farhan     22:53:03           NaN\n",
       "..          ...     ...          ...           ...\n",
       "113  15/12/2019  Farhan          NaN      23:29:43\n",
       "114  15/12/2019  Farhan          NaN      23:29:44\n",
       "115  15/12/2019  Farhan          NaN      23:29:44\n",
       "116  15/12/2019  Farhan          NaN      23:29:45\n",
       "117  15/12/2019  Farhan          NaN      23:29:48\n",
       "\n",
       "[118 rows x 4 columns]"
      ]
     },
     "execution_count": 29,
     "metadata": {},
     "output_type": "execute_result"
    }
   ],
   "source": [
    "test\n"
   ]
  },
  {
   "cell_type": "code",
   "execution_count": 32,
   "metadata": {},
   "outputs": [
    {
     "data": {
      "text/html": [
       "<div>\n",
       "<style scoped>\n",
       "    .dataframe tbody tr th:only-of-type {\n",
       "        vertical-align: middle;\n",
       "    }\n",
       "\n",
       "    .dataframe tbody tr th {\n",
       "        vertical-align: top;\n",
       "    }\n",
       "\n",
       "    .dataframe thead th {\n",
       "        text-align: right;\n",
       "    }\n",
       "</style>\n",
       "<table border=\"1\" class=\"dataframe\">\n",
       "  <thead>\n",
       "    <tr style=\"text-align: right;\">\n",
       "      <th></th>\n",
       "      <th>Date</th>\n",
       "      <th>Name</th>\n",
       "      <th>Time Sign In</th>\n",
       "      <th>Time Sign Out</th>\n",
       "    </tr>\n",
       "  </thead>\n",
       "  <tbody>\n",
       "    <tr>\n",
       "      <th>0</th>\n",
       "      <td>15/12/2019</td>\n",
       "      <td>Ivan</td>\n",
       "      <td>22:51:59</td>\n",
       "      <td>NaN</td>\n",
       "    </tr>\n",
       "    <tr>\n",
       "      <th>1</th>\n",
       "      <td>15/12/2019</td>\n",
       "      <td>Ivan</td>\n",
       "      <td>22:52:02</td>\n",
       "      <td>NaN</td>\n",
       "    </tr>\n",
       "    <tr>\n",
       "      <th>2</th>\n",
       "      <td>15/12/2019</td>\n",
       "      <td>Farhan</td>\n",
       "      <td>22:53:00</td>\n",
       "      <td>NaN</td>\n",
       "    </tr>\n",
       "    <tr>\n",
       "      <th>3</th>\n",
       "      <td>15/12/2019</td>\n",
       "      <td>Farhan</td>\n",
       "      <td>22:53:01</td>\n",
       "      <td>NaN</td>\n",
       "    </tr>\n",
       "    <tr>\n",
       "      <th>4</th>\n",
       "      <td>15/12/2019</td>\n",
       "      <td>Farhan</td>\n",
       "      <td>22:53:03</td>\n",
       "      <td>NaN</td>\n",
       "    </tr>\n",
       "    <tr>\n",
       "      <th>...</th>\n",
       "      <td>...</td>\n",
       "      <td>...</td>\n",
       "      <td>...</td>\n",
       "      <td>...</td>\n",
       "    </tr>\n",
       "    <tr>\n",
       "      <th>113</th>\n",
       "      <td>15/12/2019</td>\n",
       "      <td>Farhan</td>\n",
       "      <td>NaN</td>\n",
       "      <td>23:29:43</td>\n",
       "    </tr>\n",
       "    <tr>\n",
       "      <th>114</th>\n",
       "      <td>15/12/2019</td>\n",
       "      <td>Farhan</td>\n",
       "      <td>NaN</td>\n",
       "      <td>23:29:44</td>\n",
       "    </tr>\n",
       "    <tr>\n",
       "      <th>115</th>\n",
       "      <td>15/12/2019</td>\n",
       "      <td>Farhan</td>\n",
       "      <td>NaN</td>\n",
       "      <td>23:29:44</td>\n",
       "    </tr>\n",
       "    <tr>\n",
       "      <th>116</th>\n",
       "      <td>15/12/2019</td>\n",
       "      <td>Farhan</td>\n",
       "      <td>NaN</td>\n",
       "      <td>23:29:45</td>\n",
       "    </tr>\n",
       "    <tr>\n",
       "      <th>117</th>\n",
       "      <td>15/12/2019</td>\n",
       "      <td>Farhan</td>\n",
       "      <td>NaN</td>\n",
       "      <td>23:29:48</td>\n",
       "    </tr>\n",
       "  </tbody>\n",
       "</table>\n",
       "<p>118 rows × 4 columns</p>\n",
       "</div>"
      ],
      "text/plain": [
       "           Date    Name Time Sign In Time Sign Out\n",
       "0    15/12/2019    Ivan     22:51:59           NaN\n",
       "1    15/12/2019    Ivan     22:52:02           NaN\n",
       "2    15/12/2019  Farhan     22:53:00           NaN\n",
       "3    15/12/2019  Farhan     22:53:01           NaN\n",
       "4    15/12/2019  Farhan     22:53:03           NaN\n",
       "..          ...     ...          ...           ...\n",
       "113  15/12/2019  Farhan          NaN      23:29:43\n",
       "114  15/12/2019  Farhan          NaN      23:29:44\n",
       "115  15/12/2019  Farhan          NaN      23:29:44\n",
       "116  15/12/2019  Farhan          NaN      23:29:45\n",
       "117  15/12/2019  Farhan          NaN      23:29:48\n",
       "\n",
       "[118 rows x 4 columns]"
      ]
     },
     "execution_count": 32,
     "metadata": {},
     "output_type": "execute_result"
    }
   ],
   "source": [
    "records"
   ]
  }
 ],
 "metadata": {
  "kernelspec": {
   "display_name": "Python 3",
   "language": "python",
   "name": "python3"
  },
  "language_info": {
   "codemirror_mode": {
    "name": "ipython",
    "version": 3
   },
   "file_extension": ".py",
   "mimetype": "text/x-python",
   "name": "python",
   "nbconvert_exporter": "python",
   "pygments_lexer": "ipython3",
   "version": "3.6.9"
  }
 },
 "nbformat": 4,
 "nbformat_minor": 2
}
