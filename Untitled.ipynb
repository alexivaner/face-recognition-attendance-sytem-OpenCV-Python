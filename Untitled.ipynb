{
 "cells": [
  {
   "cell_type": "code",
   "execution_count": 1,
   "metadata": {},
   "outputs": [],
   "source": [
    "from collections import defaultdict\n",
    "import operator\n",
    "\n",
    "name=['Thanh', 'Thanh', 'Thanh', 'Thanh', 'Thanh', 'Thanh', 'Thanh', 'Thanh', 'Thanh', 'Thanh', 'Thanh', 'Thanh', 'Thanh', 'Thanh', 'Thanh', 'Thanh', 'Thanh', 'Thanh', 'Thanh', 'Thanh', 'Thanh', 'Thanh', 'Thanh', 'Thanh', 'Thanh', 'Thanh', 'Thanh', 'Thanh', 'Thanh', 'Thanh', 'Thanh', 'Farhan', 'Farhan', 'Farhan', 'Farhan', 'Farhan', 'Farhan', 'Farhan', 'Farhan', 'Farhan', 'Farhan', 'Farhan', 'Farhan', 'Farhan', 'Farhan', 'Farhan', 'Farhan', 'Farhan', 'Farhan', 'Farhan', 'Farhan', 'Farhan', 'Farhan', 'Farhan', 'Farhan', 'Farhan', 'Farhan', 'Farhan', 'Farhan', 'Farhan', 'Farhan', 'Farhan', 'Farhan', 'Farhan', 'Farhan', 'Farhan', 'Farhan', 'Farhan', 'Farhan', 'Farhan', 'Farhan', 'Farhan', 'Farhan', 'Farhan', 'Farhan', 'Farhan', 'Farhan', 'Farhan', 'Farhan', 'Farhan', 'Farhan', 'Farhan', 'Farhan', 'Farhan', 'Farhan', 'Farhan', 'Farhan', 'Farhan', 'Farhan', 'Farhan', 'Farhan', 'Farhan', 'Farhan', 'Farhan', 'Farhan', 'Farhan', 'Farhan', 'Farhan', 'Farhan', 'Farhan'] \n",
    "proba=[0.5034575055202198, 0.5520427821890966, 0.6030068225164448, 0.6030068225164448, 0.5860999564454077, 0.6237040533382533, 0.6237040533382533, 0.6258886187471548, 0.5001838272994527, 0.6661051245432064, 0.6661051245432064, 0.5244546106956314, 0.5101621915537603, 0.5101621915537603, 0.5360828000075919, 0.7139691984036189, 0.5189895832129657, 0.5714286826531549, 0.5714286826531549, 0.5987919542825614, 0.5283934434964509, 0.5283934434964509, 0.6202250454792679, 0.525258458484734, 0.525258458484734, 0.5133644387244062, 0.5091241038219045, 0.6368190915395978, 0.6368190915395978, 0.7494164210808851, 0.5488402680202662, 0.7808161999524619, 0.6045882518655675, 0.6045882518655675, 0.7290776594449505, 0.7699865134064742, 0.7519652244848499, 0.7519652244848499, 0.8077852649049353, 0.7134707990155944, 0.8037688136466692, 0.8037688136466692, 0.7393492726505467, 0.7236299481597214, 0.9211631751681413, 0.9211631751681413, 0.8755956726930461, 0.7716040416308472, 0.8283740437142579, 0.8283740437142579, 0.6911285808068242, 0.815269220327726, 0.7761349900751436, 0.7761349900751436, 0.8543060937857131, 0.8214034671748194, 0.8277116720005308, 0.8277116720005308, 0.8489207294643405, 0.8508585582340787, 0.8292307145069551, 0.8292307145069551, 0.9190399370528969, 0.8262608879618495, 0.8262608879618495, 0.8855626586457667, 0.8920971556583306, 0.8393652541022983, 0.8393652541022983, 0.6522542191928085, 0.763941244808842, 0.6617301069272125, 0.6617301069272125, 0.7505104609623339, 0.7797390400367972, 0.7743520828749992, 0.7743520828749992, 0.7334068254114521, 0.6420824926612195, 0.5816118856366084, 0.5816118856366084, 0.7435587907907325, 0.7185212563558573, 0.5728508640357881, 0.5728508640357881, 0.6745666964202567, 0.6919964220309587, 0.6919964220309587, 0.6603307426773032, 0.6640376552400149, 0.572635793799911, 0.7192547747301853, 0.5533876753863931, 0.5533876753863931, 0.5002616186662556, 0.5655049212392814, 0.5655049212392814, 0.7312076638045019, 0.815812376244331, 0.7306884793725411]\n",
    "\n",
    "d = defaultdict(list)\n",
    "for key, value in zip(name, proba):\n",
    "    d[key].append(value)\n",
    "\n",
    "occurence=dict(d)"
   ]
  },
  {
   "cell_type": "code",
   "execution_count": 2,
   "metadata": {},
   "outputs": [],
   "source": [
    "thisset=set(occurence)\n",
    "for x in thisset:\n",
    "    occurance_individual=len(occurence[x])\n",
    "    occurence[x]=sum(item for item in occurence[x])\n",
    "    \n",
    "a=sum(occurence.values())\n",
    "\n",
    "for x in thisset:\n",
    "    occurence[x]=occurence[x]/a\n",
    "       \n",
    "    "
   ]
  },
  {
   "cell_type": "code",
   "execution_count": 3,
   "metadata": {},
   "outputs": [
    {
     "data": {
      "text/plain": [
       "{'Thanh': 0.2595137703162323, 'Farhan': 0.7404862296837676}"
      ]
     },
     "execution_count": 3,
     "metadata": {},
     "output_type": "execute_result"
    }
   ],
   "source": [
    "occurence"
   ]
  },
  {
   "cell_type": "code",
   "execution_count": 4,
   "metadata": {},
   "outputs": [
    {
     "data": {
      "text/plain": [
       "0.2595137703162323"
      ]
     },
     "execution_count": 4,
     "metadata": {},
     "output_type": "execute_result"
    }
   ],
   "source": [
    "occurence['Thanh']\n"
   ]
  },
  {
   "cell_type": "code",
   "execution_count": 5,
   "metadata": {},
   "outputs": [],
   "source": [
    "highest_face=max(occurence.items(), key=operator.itemgetter(1))[0]"
   ]
  },
  {
   "cell_type": "code",
   "execution_count": 6,
   "metadata": {},
   "outputs": [
    {
     "data": {
      "text/plain": [
       "'Farhan'"
      ]
     },
     "execution_count": 6,
     "metadata": {},
     "output_type": "execute_result"
    }
   ],
   "source": [
    "highest_face"
   ]
  },
  {
   "cell_type": "code",
   "execution_count": 7,
   "metadata": {},
   "outputs": [],
   "source": [
    "import pandas as pd\n",
    "import numpy as np\n",
    "\n",
    "records = pd.read_csv('attendance-system.csv') #PROSES PERBAIKAN RAW DATA\n",
    "deduped = records.drop_duplicates(['Name'], keep='first')\n",
    "deduped =deduped.drop(columns=['Time Sign Out'])\n",
    "signed_out=records.loc[records['Time Sign Out'].notna()]\n",
    "deduped_out = signed_out.drop_duplicates(['Name'], keep='first')\n",
    "deduped_out =deduped_out.drop(columns=['Time Sign In'])\n",
    "mergedStuff = pd.merge(deduped, deduped_out, on=['Name'],suffixes=(' Sign In', ' Sign Out'))\n",
    "attend_data = mergedStuff[mergedStuff.Name != 'unknown']\n",
    "attend_data.to_csv('coba.csv', index=False)"
   ]
  },
  {
   "cell_type": "code",
   "execution_count": 8,
   "metadata": {},
   "outputs": [],
   "source": [
    "mergedStuff = pd.merge(deduped, deduped_out, on=['Name'],suffixes=(' Sign In', ' Sign Out'))\n"
   ]
  },
  {
   "cell_type": "code",
   "execution_count": 9,
   "metadata": {},
   "outputs": [],
   "source": [
    "records.drop(records.index, inplace=True)\n"
   ]
  },
  {
   "cell_type": "code",
   "execution_count": 68,
   "metadata": {},
   "outputs": [
    {
     "data": {
      "text/html": [
       "<div>\n",
       "<style scoped>\n",
       "    .dataframe tbody tr th:only-of-type {\n",
       "        vertical-align: middle;\n",
       "    }\n",
       "\n",
       "    .dataframe tbody tr th {\n",
       "        vertical-align: top;\n",
       "    }\n",
       "\n",
       "    .dataframe thead th {\n",
       "        text-align: right;\n",
       "    }\n",
       "</style>\n",
       "<table border=\"1\" class=\"dataframe\">\n",
       "  <thead>\n",
       "    <tr style=\"text-align: right;\">\n",
       "      <th></th>\n",
       "      <th>Date</th>\n",
       "      <th>Name</th>\n",
       "      <th>Time Sign Out</th>\n",
       "    </tr>\n",
       "  </thead>\n",
       "  <tbody>\n",
       "    <tr>\n",
       "      <th>5</th>\n",
       "      <td>18/12/2019</td>\n",
       "      <td>Ivan</td>\n",
       "      <td>13:22:02</td>\n",
       "    </tr>\n",
       "    <tr>\n",
       "      <th>6</th>\n",
       "      <td>18/12/2019</td>\n",
       "      <td>Thanh</td>\n",
       "      <td>13:22:04</td>\n",
       "    </tr>\n",
       "  </tbody>\n",
       "</table>\n",
       "</div>"
      ],
      "text/plain": [
       "         Date   Name Time Sign Out\n",
       "5  18/12/2019   Ivan      13:22:02\n",
       "6  18/12/2019  Thanh      13:22:04"
      ]
     },
     "execution_count": 68,
     "metadata": {},
     "output_type": "execute_result"
    }
   ],
   "source": [
    "deduped_out"
   ]
  },
  {
   "cell_type": "code",
   "execution_count": 11,
   "metadata": {},
   "outputs": [],
   "source": [
    "test=records.groupby(level=0).first()"
   ]
  },
  {
   "cell_type": "code",
   "execution_count": 12,
   "metadata": {},
   "outputs": [
    {
     "data": {
      "text/html": [
       "<div>\n",
       "<style scoped>\n",
       "    .dataframe tbody tr th:only-of-type {\n",
       "        vertical-align: middle;\n",
       "    }\n",
       "\n",
       "    .dataframe tbody tr th {\n",
       "        vertical-align: top;\n",
       "    }\n",
       "\n",
       "    .dataframe thead th {\n",
       "        text-align: right;\n",
       "    }\n",
       "</style>\n",
       "<table border=\"1\" class=\"dataframe\">\n",
       "  <thead>\n",
       "    <tr style=\"text-align: right;\">\n",
       "      <th></th>\n",
       "      <th>Date</th>\n",
       "      <th>Name</th>\n",
       "      <th>Time Sign In</th>\n",
       "      <th>Time Sign Out</th>\n",
       "    </tr>\n",
       "  </thead>\n",
       "  <tbody>\n",
       "  </tbody>\n",
       "</table>\n",
       "</div>"
      ],
      "text/plain": [
       "Empty DataFrame\n",
       "Columns: [Date, Name, Time Sign In, Time Sign Out]\n",
       "Index: []"
      ]
     },
     "execution_count": 12,
     "metadata": {},
     "output_type": "execute_result"
    }
   ],
   "source": [
    "test\n"
   ]
  },
  {
   "cell_type": "code",
   "execution_count": 13,
   "metadata": {},
   "outputs": [
    {
     "data": {
      "text/html": [
       "<div>\n",
       "<style scoped>\n",
       "    .dataframe tbody tr th:only-of-type {\n",
       "        vertical-align: middle;\n",
       "    }\n",
       "\n",
       "    .dataframe tbody tr th {\n",
       "        vertical-align: top;\n",
       "    }\n",
       "\n",
       "    .dataframe thead th {\n",
       "        text-align: right;\n",
       "    }\n",
       "</style>\n",
       "<table border=\"1\" class=\"dataframe\">\n",
       "  <thead>\n",
       "    <tr style=\"text-align: right;\">\n",
       "      <th></th>\n",
       "      <th>Date</th>\n",
       "      <th>Name</th>\n",
       "      <th>Time Sign In</th>\n",
       "      <th>Time Sign Out</th>\n",
       "    </tr>\n",
       "  </thead>\n",
       "  <tbody>\n",
       "  </tbody>\n",
       "</table>\n",
       "</div>"
      ],
      "text/plain": [
       "Empty DataFrame\n",
       "Columns: [Date, Name, Time Sign In, Time Sign Out]\n",
       "Index: []"
      ]
     },
     "execution_count": 13,
     "metadata": {},
     "output_type": "execute_result"
    }
   ],
   "source": [
    "records"
   ]
  },
  {
   "cell_type": "code",
   "execution_count": 14,
   "metadata": {},
   "outputs": [],
   "source": [
    "absence = pd.read_csv('attendance-data.csv') #PROSES PERBAIKAN RAW DATA"
   ]
  },
  {
   "cell_type": "code",
   "execution_count": 35,
   "metadata": {},
   "outputs": [],
   "source": [
    "a=list(absence[absence.columns[0]])"
   ]
  },
  {
   "cell_type": "code",
   "execution_count": 66,
   "metadata": {},
   "outputs": [],
   "source": [
    "item='look'"
   ]
  },
  {
   "cell_type": "code",
   "execution_count": 53,
   "metadata": {},
   "outputs": [],
   "source": [
    "dictionary=deduped.set_index('Name').T.to_dict('list')"
   ]
  },
  {
   "cell_type": "code",
   "execution_count": 57,
   "metadata": {},
   "outputs": [
    {
     "name": "stdout",
     "output_type": "stream",
     "text": [
      "('Farhan', ['18/12/2019', '13:21:32'])\n",
      "('Thanh', ['18/12/2019', '13:21:32'])\n",
      "('Ivan', ['18/12/2019', '13:21:33'])\n"
     ]
    }
   ],
   "source": [
    "for item in dictionary.items():\n",
    "    print(item)\n"
   ]
  },
  {
   "cell_type": "code",
   "execution_count": 67,
   "metadata": {},
   "outputs": [],
   "source": [
    "if item in dictionary.keys():\n",
    "    print('Yes')"
   ]
  },
  {
   "cell_type": "code",
   "execution_count": 70,
   "metadata": {},
   "outputs": [
    {
     "name": "stdout",
     "output_type": "stream",
     "text": [
      "Farhan\n",
      "Thanh\n",
      "Ivan\n"
     ]
    }
   ],
   "source": [
    "for item2 in dictionary.keys():\n",
    "    print(item2)"
   ]
  },
  {
   "cell_type": "code",
   "execution_count": 75,
   "metadata": {},
   "outputs": [
    {
     "data": {
      "text/plain": [
       "0"
      ]
     },
     "execution_count": 75,
     "metadata": {},
     "output_type": "execute_result"
    }
   ],
   "source": [
    "import os\n",
    "duration = 0.1  # seconds\n",
    "freq = 500  # Hz\n",
    "os.system('play -nq -t alsa synth {} sine {}'.format(duration, freq))"
   ]
  },
  {
   "cell_type": "code",
   "execution_count": null,
   "metadata": {},
   "outputs": [],
   "source": []
  }
 ],
 "metadata": {
  "kernelspec": {
   "display_name": "Python 3",
   "language": "python",
   "name": "python3"
  },
  "language_info": {
   "codemirror_mode": {
    "name": "ipython",
    "version": 3
   },
   "file_extension": ".py",
   "mimetype": "text/x-python",
   "name": "python",
   "nbconvert_exporter": "python",
   "pygments_lexer": "ipython3",
   "version": "3.6.9"
  }
 },
 "nbformat": 4,
 "nbformat_minor": 2
}
